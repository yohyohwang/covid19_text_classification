{
 "cells": [
  {
   "cell_type": "markdown",
   "id": "d7853cc7",
   "metadata": {},
   "source": [
    "Use the LitCovid dataset \n",
    "\n",
    "Downloaded test.csv, train.csv, valid.csv from https://ftp.ncbi.nlm.nih.gov/pub/lu/LitCovid/topic_tagger/\n",
    "\n",
    "Inputs: title and abstract\n",
    "\n",
    "Model: CNN (performed best for dataset per Dr. Chen) \n",
    "\n",
    "Output: classification of this study's label \n",
    "\n",
    "Models\n",
    "\n",
    "- Baseline model: Naive Bayes\n",
    "\n",
    "- CNN \n",
    "\n",
    "- RNN (or another alternative model)"
   ]
  },
  {
   "cell_type": "markdown",
   "id": "0a514113",
   "metadata": {},
   "source": [
    "## Steps \n",
    "\n",
    "### Clean the data\n",
    "\n",
    "- Combine test.csv, valid.csv, and train.csv into a single csv and re-split: **Yohyoh, 3/30** \n",
    "\n",
    "### EDA \n",
    "\n",
    "- How are words clustering?: **Max, 4/1**\n",
    "\n",
    "- grep search, what are the biggest hits?: **Max, 4/1**\n",
    "\n",
    "### Preprocess \n",
    "\n",
    "- Tokenize words: **Yohyoh, 4/1**\n",
    "\n",
    "- Generate word embeddings (word2vec): **Yohyoh, 4/1 (Max hops on if available)**\n",
    "\n",
    "- Named entity Recognition (unknown) : **Max**\n",
    "\n",
    "### Train models \n",
    "\n",
    "- Train Naive Bayes (baseline model): **Yohyoh, 4/4**\n",
    "\n",
    "- CNN (our model): **Yohyoh, 4/4**\n",
    "\n",
    "- RNN (or another alternative model, add transformer?): **Max, 4/4**\n",
    "\n",
    "### Quantitative evaluation of each model\n",
    "\n",
    "- Multilabel classifiers use a [confusion matrix for each label](https://towardsdatascience.com/evaluating-multi-label-classifiers-a31be83da6ea). Report accuracy, precision, recall, F1: **Max/Yohyoh for each model**\n",
    "\n",
    "### Qualitative evaluation of each model \n",
    "\n",
    "- Generate an AUC curve: **Max/Yohyoh for each model**\n",
    "\n",
    "- tSNE with clusters - compare between predicted vs. actual: **Max/Yohyoh for each model**\n",
    "\n",
    "- accuracy breakdown by labels **Max/Yohyoh for each model**"
   ]
  },
  {
   "cell_type": "code",
   "execution_count": null,
   "id": "10667417",
   "metadata": {},
   "outputs": [],
   "source": []
  },
  {
   "cell_type": "code",
   "execution_count": null,
   "id": "2d223f6f",
   "metadata": {},
   "outputs": [],
   "source": []
  },
  {
   "cell_type": "code",
   "execution_count": null,
   "id": "7f4e1714",
   "metadata": {},
   "outputs": [],
   "source": []
  },
  {
   "cell_type": "code",
   "execution_count": null,
   "id": "beb45887",
   "metadata": {},
   "outputs": [],
   "source": []
  },
  {
   "cell_type": "markdown",
   "id": "6f4cc3a9",
   "metadata": {},
   "source": [
    "## Clean the data"
   ]
  },
  {
   "cell_type": "markdown",
   "id": "fa9e704f",
   "metadata": {},
   "source": [
    "Data was original provided as training, test, and validation sets. We combined these sets and resampled them to create new training, test, and validation sets."
   ]
  },
  {
   "cell_type": "code",
   "execution_count": 2,
   "id": "8844b32d",
   "metadata": {},
   "outputs": [],
   "source": [
    "import pandas as pd"
   ]
  },
  {
   "cell_type": "code",
   "execution_count": 15,
   "id": "42b3c19d",
   "metadata": {},
   "outputs": [],
   "source": [
    "test = pd.read_csv('data/original/test.csv')\n",
    "train = pd.read_csv('data/original/train.csv')\n",
    "valid = pd.read_csv('data/original/valid.csv')"
   ]
  },
  {
   "cell_type": "code",
   "execution_count": 17,
   "id": "bf24e9f9",
   "metadata": {},
   "outputs": [
    {
     "data": {
      "text/plain": [
       "52419"
      ]
     },
     "execution_count": 17,
     "metadata": {},
     "output_type": "execute_result"
    }
   ],
   "source": [
    "len(train)"
   ]
  },
  {
   "cell_type": "code",
   "execution_count": 18,
   "id": "14f256e6",
   "metadata": {},
   "outputs": [
    {
     "data": {
      "text/plain": [
       "6582"
      ]
     },
     "execution_count": 18,
     "metadata": {},
     "output_type": "execute_result"
    }
   ],
   "source": [
    "len(valid)"
   ]
  },
  {
   "cell_type": "code",
   "execution_count": 19,
   "id": "b8559932",
   "metadata": {},
   "outputs": [
    {
     "data": {
      "text/plain": [
       "8226"
      ]
     },
     "execution_count": 19,
     "metadata": {},
     "output_type": "execute_result"
    }
   ],
   "source": [
    "len(test)"
   ]
  },
  {
   "cell_type": "code",
   "execution_count": 26,
   "id": "2e6ab7d4",
   "metadata": {},
   "outputs": [],
   "source": [
    "combined = pd.concat([train, valid, test]).sample(frac=1).reset_index() # combine and reshuffle randomly"
   ]
  },
  {
   "cell_type": "code",
   "execution_count": 32,
   "id": "20a8bb09",
   "metadata": {},
   "outputs": [],
   "source": [
    "train_new = combined[0:len(train)]\n",
    "valid_new = combined[0:len(valid)]\n",
    "test_new = combined[0:len(test)]"
   ]
  },
  {
   "cell_type": "code",
   "execution_count": 33,
   "id": "c277982d",
   "metadata": {
    "scrolled": true
   },
   "outputs": [
    {
     "data": {
      "text/plain": [
       "52419"
      ]
     },
     "execution_count": 33,
     "metadata": {},
     "output_type": "execute_result"
    }
   ],
   "source": [
    "len(train_new)"
   ]
  },
  {
   "cell_type": "code",
   "execution_count": 34,
   "id": "e286a74a",
   "metadata": {},
   "outputs": [
    {
     "data": {
      "text/plain": [
       "6582"
      ]
     },
     "execution_count": 34,
     "metadata": {},
     "output_type": "execute_result"
    }
   ],
   "source": [
    "len(valid_new)"
   ]
  },
  {
   "cell_type": "code",
   "execution_count": 35,
   "id": "5acd5e48",
   "metadata": {},
   "outputs": [
    {
     "data": {
      "text/plain": [
       "8226"
      ]
     },
     "execution_count": 35,
     "metadata": {},
     "output_type": "execute_result"
    }
   ],
   "source": [
    "len(test_new)"
   ]
  },
  {
   "cell_type": "code",
   "execution_count": 37,
   "id": "8532c849",
   "metadata": {},
   "outputs": [],
   "source": [
    "train_new.to_csv('data/train.csv')\n",
    "valid_new.to_csv('data/valid.csv')\n",
    "test_new.to_csv('data/test.csv')\n",
    "combined.to_csv('data/combined.csv')"
   ]
  }
 ],
 "metadata": {
  "kernelspec": {
   "display_name": "Python 3",
   "language": "python",
   "name": "python3"
  },
  "language_info": {
   "codemirror_mode": {
    "name": "ipython",
    "version": 3
   },
   "file_extension": ".py",
   "mimetype": "text/x-python",
   "name": "python",
   "nbconvert_exporter": "python",
   "pygments_lexer": "ipython3",
   "version": "3.8.8"
  }
 },
 "nbformat": 4,
 "nbformat_minor": 5
}
