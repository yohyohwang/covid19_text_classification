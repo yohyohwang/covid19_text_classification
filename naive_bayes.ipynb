{
 "cells": [
  {
   "cell_type": "markdown",
   "id": "c4e4b234",
   "metadata": {},
   "source": [
    "### Implement Naive Bayes \n",
    "\n",
    "Following https://towardsdatascience.com/text-classification-using-naive-bayes-theory-a-working-example-2ef4b7eb7d5a"
   ]
  },
  {
   "cell_type": "code",
   "execution_count": 1,
   "id": "5a5ce5ce",
   "metadata": {},
   "outputs": [],
   "source": [
    "import pickle\n",
    "import numpy as np, pandas as pd\n",
    "import seaborn as sns\n",
    "import matplotlib.pyplot as plt\n",
    "# from sklearn.datasets import fetch_20newsgroups\n",
    "from sklearn.feature_extraction.text import TfidfVectorizer\n",
    "from sklearn.naive_bayes import MultinomialNB\n",
    "from sklearn.pipeline import make_pipeline\n",
    "import sklearn.metrics as metrics\n",
    "sns.set() # use seaborn plotting style\n"
   ]
  },
  {
   "cell_type": "code",
   "execution_count": 2,
   "id": "7b8fdee6",
   "metadata": {},
   "outputs": [],
   "source": [
    "train_dict = pickle.load(open('data/train.pkl', 'rb'))\n",
    "test_dict = pickle.load(open('data/test.pkl', 'rb'))"
   ]
  },
  {
   "cell_type": "code",
   "execution_count": 3,
   "id": "ea6d368b",
   "metadata": {},
   "outputs": [],
   "source": [
    "train_data = [train_dict[i]['input'] for i in train_dict]\n",
    "train_target = [train_dict[i]['label'] for i in train_dict]\n",
    "\n",
    "test_data = [test_dict[i]['input'] for i in test_dict]\n",
    "test_target = [test_dict[i]['label'] for i in test_dict]"
   ]
  },
  {
   "cell_type": "code",
   "execution_count": 4,
   "id": "28aa0f63",
   "metadata": {
    "scrolled": true
   },
   "outputs": [],
   "source": [
    "# Build the model\n",
    "model = make_pipeline(TfidfVectorizer(), MultinomialNB())\n",
    "\n",
    "# Train the model using the training data\n",
    "model.fit(train_data, train_target)\n",
    "\n",
    "# Predict the categories of the test data\n",
    "predicted_categories = model.predict(test_target)\n"
   ]
  },
  {
   "cell_type": "code",
   "execution_count": 5,
   "id": "b26505d0",
   "metadata": {},
   "outputs": [
    {
     "name": "stdout",
     "output_type": "stream",
     "text": [
      "The accuracy is 0.5249008373732922\n",
      "The recall is 0.5249008373732922\n",
      "The F1 score is 0.5249008373732922\n",
      "The precision is 0.5249008373732922\n"
     ]
    }
   ],
   "source": [
    "# Generate confusion matrix\n",
    "\n",
    "print(\"The accuracy is {}\".format(metrics.accuracy_score(test_target, predicted_categories)))\n",
    "print(\"The recall is {}\".format(metrics.recall_score(test_target, predicted_categories, average='micro')))\n",
    "print(\"The F1 score is {}\".format(metrics.f1_score(test_target, predicted_categories, average='micro')))\n",
    "print(\"The precision is {}\".format(metrics.precision_score(test_target, predicted_categories, average='micro')))\n"
   ]
  },
  {
   "cell_type": "code",
   "execution_count": 8,
   "id": "058fc2fe",
   "metadata": {
    "scrolled": true
   },
   "outputs": [
    {
     "name": "stdout",
     "output_type": "stream",
     "text": [
      "                                                       precision    recall  f1-score   support\n",
      "\n",
      "                                                            0.00      0.00      0.00       773\n",
      "                                          Case Report       1.00      1.00      1.00       297\n",
      "                                            Diagnosis       1.00      1.00      1.00       374\n",
      "                                  Diagnosis;Mechanism       0.00      0.00      0.00        17\n",
      "          Diagnosis;Mechanism;Prevention;Transmission       0.00      0.00      0.00         1\n",
      "                        Diagnosis;Mechanism;Treatment       0.00      0.00      0.00         1\n",
      "                                 Diagnosis;Prevention       0.00      0.00      0.00        22\n",
      "                       Diagnosis;Prevention;Mechanism       0.00      0.00      0.00         1\n",
      "                    Diagnosis;Prevention;Transmission       0.00      0.00      0.00         2\n",
      "                       Diagnosis;Prevention;Treatment       0.00      0.00      0.00         4\n",
      "             Diagnosis;Prevention;Treatment;Mechanism       0.00      0.00      0.00         1\n",
      "          Diagnosis;Prevention;Treatment;Transmission       0.00      0.00      0.00         1\n",
      "                               Diagnosis;Transmission       0.00      0.00      0.00        12\n",
      "                     Diagnosis;Transmission;Mechanism       0.00      0.00      0.00         1\n",
      "                    Diagnosis;Transmission;Prevention       0.00      0.00      0.00         1\n",
      "                                  Diagnosis;Treatment       0.00      0.00      0.00        91\n",
      "                        Diagnosis;Treatment;Mechanism       0.00      0.00      0.00         2\n",
      "                       Diagnosis;Treatment;Prevention       0.00      0.00      0.00         5\n",
      "                     Diagnosis;Treatment;Transmission       0.00      0.00      0.00         2\n",
      "                                 Epidemic Forecasting       0.00      0.00      0.00        26\n",
      "                      Epidemic Forecasting;Prevention       0.00      0.00      0.00        20\n",
      "         Epidemic Forecasting;Prevention;Transmission       0.00      0.00      0.00         1\n",
      "                                         General Info       0.00      0.00      0.00        18\n",
      "                                            Mechanism       0.00      0.00      0.00        74\n",
      "                                  Mechanism;Diagnosis       0.00      0.00      0.00        16\n",
      "                        Mechanism;Diagnosis;Treatment       0.00      0.00      0.00         6\n",
      "                                 Mechanism;Prevention       0.00      0.00      0.00         3\n",
      "                               Mechanism;Transmission       0.00      0.00      0.00        13\n",
      "                     Mechanism;Transmission;Diagnosis       0.00      0.00      0.00         1\n",
      "           Mechanism;Transmission;Diagnosis;Treatment       0.00      0.00      0.00         1\n",
      "                    Mechanism;Transmission;Prevention       0.00      0.00      0.00         2\n",
      "           Mechanism;Transmission;Treatment;Diagnosis       0.00      0.00      0.00         1\n",
      "                                  Mechanism;Treatment       0.00      0.00      0.00        66\n",
      "                        Mechanism;Treatment;Diagnosis       0.00      0.00      0.00         3\n",
      "             Mechanism;Treatment;Epidemic Forecasting       0.00      0.00      0.00         1\n",
      "                                           Prevention       0.40      1.00      0.57      1331\n",
      "                                 Prevention;Diagnosis       0.00      0.00      0.00        31\n",
      "            Prevention;Diagnosis;Epidemic Forecasting       0.00      0.00      0.00         1\n",
      "                    Prevention;Diagnosis;Transmission       0.00      0.00      0.00         4\n",
      "          Prevention;Diagnosis;Transmission;Treatment       0.00      0.00      0.00         1\n",
      "                       Prevention;Diagnosis;Treatment       0.00      0.00      0.00         1\n",
      "                      Prevention;Epidemic Forecasting       0.00      0.00      0.00        46\n",
      "         Prevention;Epidemic Forecasting;Transmission       0.00      0.00      0.00         1\n",
      "                                 Prevention;Mechanism       0.00      0.00      0.00         3\n",
      "                       Prevention;Mechanism;Treatment       0.00      0.00      0.00         2\n",
      "                              Prevention;Transmission       0.00      0.00      0.00        30\n",
      "         Prevention;Transmission;Epidemic Forecasting       0.00      0.00      0.00         2\n",
      "                    Prevention;Transmission;Mechanism       0.00      0.00      0.00         2\n",
      "                    Prevention;Transmission;Treatment       0.00      0.00      0.00         1\n",
      "                                 Prevention;Treatment       0.00      0.00      0.00        20\n",
      "                       Prevention;Treatment;Diagnosis       0.00      0.00      0.00         4\n",
      "                       Prevention;Treatment;Mechanism       0.00      0.00      0.00         1\n",
      "                                         Transmission       0.00      0.00      0.00        19\n",
      "                               Transmission;Diagnosis       0.00      0.00      0.00         8\n",
      "                    Transmission;Epidemic Forecasting       0.00      0.00      0.00         1\n",
      "         Transmission;Epidemic Forecasting;Prevention       0.00      0.00      0.00         1\n",
      "                               Transmission;Mechanism       0.00      0.00      0.00         8\n",
      "Transmission;Mechanism;Treatment;Diagnosis;Prevention       0.00      0.00      0.00         1\n",
      "                              Transmission;Prevention       0.00      0.00      0.00        25\n",
      "         Transmission;Prevention;Epidemic Forecasting       0.00      0.00      0.00         3\n",
      "                                            Treatment       0.00      0.00      0.00       373\n",
      "                                  Treatment;Diagnosis       0.00      0.00      0.00       256\n",
      "                        Treatment;Diagnosis;Mechanism       0.00      0.00      0.00        39\n",
      "             Treatment;Diagnosis;Mechanism;Prevention       0.00      0.00      0.00         1\n",
      "                       Treatment;Diagnosis;Prevention       0.00      0.00      0.00         3\n",
      "Treatment;Diagnosis;Prevention;Transmission;Mechanism       0.00      0.00      0.00         1\n",
      "                     Treatment;Diagnosis;Transmission       0.00      0.00      0.00         2\n",
      "                       Treatment;Epidemic Forecasting       0.00      0.00      0.00         1\n",
      "                                  Treatment;Mechanism       0.73      1.00      0.84       380\n",
      "                        Treatment;Mechanism;Diagnosis       0.00      0.00      0.00        26\n",
      "             Treatment;Mechanism;Diagnosis;Prevention       0.00      0.00      0.00         1\n",
      "             Treatment;Mechanism;Prevention;Diagnosis       0.00      0.00      0.00         1\n",
      "                     Treatment;Mechanism;Transmission       0.00      0.00      0.00         1\n",
      "                                 Treatment;Prevention       0.00      0.00      0.00        35\n",
      "                       Treatment;Prevention;Diagnosis       0.00      0.00      0.00         3\n",
      "             Treatment;Prevention;Diagnosis;Mechanism       0.00      0.00      0.00         1\n",
      "                       Treatment;Prevention;Mechanism       0.00      0.00      0.00         2\n",
      "             Treatment;Prevention;Mechanism;Diagnosis       0.00      0.00      0.00         2\n",
      "                     Treatment;Transmission;Diagnosis       0.00      0.00      0.00         1\n",
      "                     Treatment;Transmission;Mechanism       0.00      0.00      0.00         2\n",
      "\n",
      "                                             accuracy                           0.52      4538\n",
      "                                            macro avg       0.04      0.05      0.04      4538\n",
      "                                         weighted avg       0.33      0.52      0.39      4538\n",
      "\n"
     ]
    },
    {
     "name": "stderr",
     "output_type": "stream",
     "text": [
      "/Users/yohyoh.wang/opt/anaconda3/lib/python3.8/site-packages/sklearn/metrics/_classification.py:1245: UndefinedMetricWarning: Precision and F-score are ill-defined and being set to 0.0 in labels with no predicted samples. Use `zero_division` parameter to control this behavior.\n",
      "  _warn_prf(average, modifier, msg_start, len(result))\n",
      "/Users/yohyoh.wang/opt/anaconda3/lib/python3.8/site-packages/sklearn/metrics/_classification.py:1245: UndefinedMetricWarning: Precision and F-score are ill-defined and being set to 0.0 in labels with no predicted samples. Use `zero_division` parameter to control this behavior.\n",
      "  _warn_prf(average, modifier, msg_start, len(result))\n",
      "/Users/yohyoh.wang/opt/anaconda3/lib/python3.8/site-packages/sklearn/metrics/_classification.py:1245: UndefinedMetricWarning: Precision and F-score are ill-defined and being set to 0.0 in labels with no predicted samples. Use `zero_division` parameter to control this behavior.\n",
      "  _warn_prf(average, modifier, msg_start, len(result))\n"
     ]
    }
   ],
   "source": [
    "print(metrics.classification_report(test_target, predicted_categories))"
   ]
  },
  {
   "cell_type": "code",
   "execution_count": 7,
   "id": "25e29eea",
   "metadata": {},
   "outputs": [],
   "source": [
    "# %%time\n",
    "\n",
    "# # plot the confusion matrix\n",
    "\n",
    "# mat = metrics.confusion_matrix(test_target, predicted_categories)\n",
    "# sns.heatmap(mat.T, square = True, annot=True, fmt = \"d\", xticklabels=train_target,yticklabels=train_target)\n",
    "# plt.xlabel(\"true labels\")\n",
    "# plt.ylabel(\"predicted label\")\n",
    "# plt.show()"
   ]
  }
 ],
 "metadata": {
  "kernelspec": {
   "display_name": "Python 3",
   "language": "python",
   "name": "python3"
  },
  "language_info": {
   "codemirror_mode": {
    "name": "ipython",
    "version": 3
   },
   "file_extension": ".py",
   "mimetype": "text/x-python",
   "name": "python",
   "nbconvert_exporter": "python",
   "pygments_lexer": "ipython3",
   "version": "3.8.8"
  }
 },
 "nbformat": 4,
 "nbformat_minor": 5
}
