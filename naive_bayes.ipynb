{
 "cells": [
  {
   "cell_type": "markdown",
   "id": "c4e4b234",
   "metadata": {},
   "source": [
    "### Implement Naive Bayes \n",
    "\n",
    "Following https://towardsdatascience.com/text-classification-using-naive-bayes-theory-a-working-example-2ef4b7eb7d5a"
   ]
  },
  {
   "cell_type": "code",
   "execution_count": 2,
   "id": "5a5ce5ce",
   "metadata": {},
   "outputs": [],
   "source": [
    "import pickle\n",
    "import numpy as np, pandas as pd\n",
    "import seaborn as sns\n",
    "import matplotlib.pyplot as plt\n",
    "# from sklearn.datasets import fetch_20newsgroups\n",
    "from sklearn.feature_extraction.text import TfidfVectorizer\n",
    "from sklearn.naive_bayes import MultinomialNB\n",
    "from sklearn.pipeline import make_pipeline\n",
    "import sklearn.metrics as metrics\n",
    "sns.set() # use seaborn plotting style\n"
   ]
  },
  {
   "cell_type": "code",
   "execution_count": 3,
   "id": "7b8fdee6",
   "metadata": {},
   "outputs": [],
   "source": [
    "train_dict = pickle.load(open('data/train.pkl', 'rb'))\n",
    "test_dict = pickle.load(open('data/test.pkl', 'rb'))"
   ]
  },
  {
   "cell_type": "code",
   "execution_count": 4,
   "id": "ea6d368b",
   "metadata": {},
   "outputs": [],
   "source": [
    "train_data = [train_dict[i]['input'] for i in train_dict]\n",
    "train_target = [train_dict[i]['label'] for i in train_dict]\n",
    "\n",
    "test_data = [test_dict[i]['input'] for i in test_dict]\n",
    "test_target = [test_dict[i]['label'] for i in test_dict]"
   ]
  },
  {
   "cell_type": "code",
   "execution_count": 5,
   "id": "28aa0f63",
   "metadata": {
    "scrolled": true
   },
   "outputs": [],
   "source": [
    "# Build the model\n",
    "model = make_pipeline(TfidfVectorizer(), MultinomialNB())\n",
    "\n",
    "# Train the model using the training data\n",
    "model.fit(train_data, train_target)\n",
    "\n",
    "# Predict the categories of the test data\n",
    "predicted_categories = model.predict(test_target)\n"
   ]
  },
  {
   "cell_type": "code",
   "execution_count": 5,
   "id": "b26505d0",
   "metadata": {},
   "outputs": [
    {
     "name": "stdout",
     "output_type": "stream",
     "text": [
      "The accuracy is 0.49969614099058035\n",
      "The recall is 0.49969614099058035\n",
      "The F1 score is 0.3561008739339417\n",
      "The precision is 0.2968107129047321\n"
     ]
    },
    {
     "name": "stderr",
     "output_type": "stream",
     "text": [
      "/Users/yohyoh.wang/opt/anaconda3/lib/python3.8/site-packages/sklearn/metrics/_classification.py:1245: UndefinedMetricWarning: Precision is ill-defined and being set to 0.0 in labels with no predicted samples. Use `zero_division` parameter to control this behavior.\n",
      "  _warn_prf(average, modifier, msg_start, len(result))\n"
     ]
    }
   ],
   "source": [
    "# Generate confusion matrix\n",
    "\n",
    "print(\"The accuracy is {}\".format(metrics.accuracy_score(test_target, predicted_categories)))\n",
    "print(\"The recall is {}\".format(metrics.recall_score(test_target, predicted_categories, average='weighted')))\n",
    "print(\"The F1 score is {}\".format(metrics.f1_score(test_target, predicted_categories, average='weighted')))\n",
    "print(\"The precision is {}\".format(metrics.precision_score(test_target, predicted_categories, average='weighted')))\n"
   ]
  },
  {
   "cell_type": "code",
   "execution_count": 6,
   "id": "25e29eea",
   "metadata": {},
   "outputs": [],
   "source": [
    "# %%time\n",
    "\n",
    "# # plot the confusion matrix\n",
    "\n",
    "# mat = metrics.confusion_matrix(test_target, predicted_categories)\n",
    "# sns.heatmap(mat.T, square = True, annot=True, fmt = \"d\", xticklabels=train_target,yticklabels=train_target)\n",
    "# plt.xlabel(\"true labels\")\n",
    "# plt.ylabel(\"predicted label\")\n",
    "# plt.show()"
   ]
  }
 ],
 "metadata": {
  "kernelspec": {
   "display_name": "Python 3",
   "language": "python",
   "name": "python3"
  },
  "language_info": {
   "codemirror_mode": {
    "name": "ipython",
    "version": 3
   },
   "file_extension": ".py",
   "mimetype": "text/x-python",
   "name": "python",
   "nbconvert_exporter": "python",
   "pygments_lexer": "ipython3",
   "version": "3.8.8"
  }
 },
 "nbformat": 4,
 "nbformat_minor": 5
}
