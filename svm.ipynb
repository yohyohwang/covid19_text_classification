{
 "cells": [
  {
   "cell_type": "markdown",
   "id": "8c7965b1",
   "metadata": {},
   "source": [
    "Following https://medium.com/technovators/machine-learning-based-multi-label-text-classification-9a0e17f88bb4"
   ]
  },
  {
   "cell_type": "code",
   "execution_count": 1,
   "id": "606cd1a4",
   "metadata": {},
   "outputs": [],
   "source": [
    "import sys\n",
    "sys.path.append('/usr/local/lib/python3.9/site-packages')"
   ]
  },
  {
   "cell_type": "code",
   "execution_count": 2,
   "id": "5a4608c4",
   "metadata": {},
   "outputs": [],
   "source": [
    "from sklearn.svm import LinearSVC\n",
    "from sklearn.multiclass import OneVsRestClassifier\n",
    "from sklearn.calibration import CalibratedClassifierCV\n",
    "from sklearn.feature_extraction.text import TfidfVectorizer\n",
    "from sklearn.preprocessing import MultiLabelBinarizer\n",
    "from sklearn import metrics\n",
    "\n",
    "import pandas as pd\n",
    "import numpy as np\n",
    "import pickle\n",
    "import json\n",
    "\n",
    "import matplotlib.pyplot as plt\n",
    "import umap\n"
   ]
  },
  {
   "cell_type": "code",
   "execution_count": 3,
   "id": "fa2a4430",
   "metadata": {},
   "outputs": [],
   "source": [
    "train_dict = pickle.load(open('data/train.pkl', 'rb'))\n",
    "valid_dict = pickle.load(open('data/valid.pkl', 'rb'))\n",
    "test_dict = pickle.load(open('data/test.pkl', 'rb'))"
   ]
  },
  {
   "cell_type": "code",
   "execution_count": 4,
   "id": "c4fd1402",
   "metadata": {},
   "outputs": [],
   "source": [
    "# Save certain keys only\n",
    "\n",
    "def load_dict(d:dict):\n",
    "    \n",
    "    d_new = {i:{'input': d[i]['input'],\n",
    "                 'label': d[i]['label'].split(';'),\n",
    "                 'label_vec': d[i]['label_vec'], \n",
    "                 'lemmas': d[i]['lemmas']}\n",
    "              for i in d\n",
    "              if len(d[i]['lemmas']) != 0}\n",
    "    \n",
    "    return d_new\n",
    "\n",
    "\n",
    "train_dict = load_dict(train_dict)\n",
    "valid_dict = load_dict(valid_dict)\n",
    "test_dict = load_dict(test_dict)"
   ]
  },
  {
   "cell_type": "code",
   "execution_count": 5,
   "id": "9b230055",
   "metadata": {},
   "outputs": [],
   "source": [
    "train_data = pd.DataFrame.from_dict(train_dict, orient='index')\n",
    "valid_data = pd.DataFrame.from_dict(valid_dict, orient='index')\n",
    "test_data = pd.DataFrame.from_dict(test_dict, orient='index')"
   ]
  },
  {
   "cell_type": "code",
   "execution_count": 6,
   "id": "ee1304b8",
   "metadata": {},
   "outputs": [],
   "source": [
    "vectorizer = TfidfVectorizer()\n",
    "vectorised_train_documents = vectorizer.fit_transform(train_data[\"input\"])\n",
    "vectorised_test_documents = vectorizer.transform(test_data[\"input\"])"
   ]
  },
  {
   "cell_type": "code",
   "execution_count": 7,
   "id": "d060c49a",
   "metadata": {},
   "outputs": [],
   "source": [
    "mlb = MultiLabelBinarizer()\n",
    "train_labels = mlb.fit_transform(train_data['label'])\n",
    "test_labels = mlb.transform(test_data['label'])\n"
   ]
  },
  {
   "cell_type": "code",
   "execution_count": 53,
   "id": "5e018d34",
   "metadata": {},
   "outputs": [],
   "source": [
    "svmClassifier = OneVsRestClassifier(LinearSVC(), n_jobs=-1)\n",
    "# svmClassifier = CalibratedClassifierCV(svmClassifier)\n",
    "svmClassifier.fit(vectorised_train_documents, train_labels)\n",
    "\n",
    "svmPreds = svmClassifier.predict(vectorised_test_documents)\n",
    "# svmProba = svmClassifier._predict_proba_lr(vectorised_test_documents)\n",
    "\n",
    "svmDF = svmClassifier.decision_function(vectorised_test_documents)"
   ]
  },
  {
   "cell_type": "code",
   "execution_count": null,
   "id": "5828bbe6",
   "metadata": {},
   "outputs": [],
   "source": []
  },
  {
   "cell_type": "code",
   "execution_count": null,
   "id": "af174a61",
   "metadata": {},
   "outputs": [],
   "source": []
  },
  {
   "cell_type": "code",
   "execution_count": 12,
   "id": "29768e50",
   "metadata": {},
   "outputs": [],
   "source": [
    "from sklearn.metrics import accuracy_score, precision_score, recall_score, f1_score, confusion_matrix, hamming_loss"
   ]
  },
  {
   "cell_type": "code",
   "execution_count": 13,
   "id": "a1d36b45",
   "metadata": {},
   "outputs": [
    {
     "data": {
      "text/plain": [
       "0.881225209343323"
      ]
     },
     "execution_count": 13,
     "metadata": {},
     "output_type": "execute_result"
    }
   ],
   "source": [
    "accuracy_score(test_labels, svmPreds)"
   ]
  },
  {
   "cell_type": "code",
   "execution_count": 16,
   "id": "9c2b3ebf",
   "metadata": {},
   "outputs": [
    {
     "data": {
      "text/plain": [
       "0.9423452492145707"
      ]
     },
     "execution_count": 16,
     "metadata": {},
     "output_type": "execute_result"
    }
   ],
   "source": [
    "f1_score(test_labels, svmPreds, average='micro')"
   ]
  },
  {
   "cell_type": "code",
   "execution_count": 17,
   "id": "05c02c0e",
   "metadata": {},
   "outputs": [
    {
     "data": {
      "text/plain": [
       "0.9532726335681154"
      ]
     },
     "execution_count": 17,
     "metadata": {},
     "output_type": "execute_result"
    }
   ],
   "source": [
    "precision_score(test_labels, svmPreds, average='micro')"
   ]
  },
  {
   "cell_type": "code",
   "execution_count": 18,
   "id": "7a2dc830",
   "metadata": {},
   "outputs": [
    {
     "data": {
      "text/plain": [
       "0.9316655473472129"
      ]
     },
     "execution_count": 18,
     "metadata": {},
     "output_type": "execute_result"
    }
   ],
   "source": [
    "recall_score(test_labels, svmPreds, average='micro')"
   ]
  },
  {
   "cell_type": "code",
   "execution_count": null,
   "id": "c7615ee4",
   "metadata": {},
   "outputs": [],
   "source": []
  },
  {
   "cell_type": "code",
   "execution_count": 20,
   "id": "bce65f0f",
   "metadata": {},
   "outputs": [],
   "source": [
    "# Which categories did the model perform best and worst on? \n",
    "confusion_matrix = metrics.multilabel_confusion_matrix(test_labels, svmPreds)"
   ]
  },
  {
   "cell_type": "code",
   "execution_count": 38,
   "id": "568c44a2",
   "metadata": {},
   "outputs": [
    {
     "data": {
      "text/plain": [
       "Text(0.5, 1.0, 'Diagnosis')"
      ]
     },
     "execution_count": 38,
     "metadata": {},
     "output_type": "execute_result"
    },
    {
     "data": {
      "image/png": "[encoded data removed]",
      "text/plain": [
       "<Figure size 864x576 with 4 Axes>"
      ]
     },
     "metadata": {
      "needs_background": "light"
     },
     "output_type": "display_data"
    }
   ],
   "source": [
    "fig, (ax1, ax2) = plt.subplots(1, 2, figsize=(12, 8))\n",
    "\n",
    "disp1 = metrics.ConfusionMatrixDisplay(confusion_matrix[0]).plot(ax=ax1)\n",
    "disp1.ax_.set_title('Case Report')\n",
    "\n",
    "disp2 = metrics.ConfusionMatrixDisplay(confusion_matrix[1]).plot(ax=ax2)\n",
    "disp2.ax_.set_title('Diagnosis')"
   ]
  },
  {
   "cell_type": "code",
   "execution_count": null,
   "id": "0cae711e",
   "metadata": {},
   "outputs": [],
   "source": []
  },
  {
   "cell_type": "code",
   "execution_count": null,
   "id": "f298c0f0",
   "metadata": {},
   "outputs": [],
   "source": []
  },
  {
   "cell_type": "code",
   "execution_count": 35,
   "id": "9c7590ed",
   "metadata": {},
   "outputs": [],
   "source": [
    "# with open('map_labels.json', 'r') as f:\n",
    "#     map_labels = json.load(f)"
   ]
  },
  {
   "cell_type": "code",
   "execution_count": 36,
   "id": "d1b8cc73",
   "metadata": {},
   "outputs": [
    {
     "data": {
      "text/plain": [
       "{'Case Report': 0,\n",
       " 'Diagnosis': 1,\n",
       " 'Epidemic Forecasting': 2,\n",
       " 'General Info': 3,\n",
       " 'Mechanism': 4,\n",
       " 'Prevention': 5,\n",
       " 'Transmission': 6,\n",
       " 'Treatment': 7,\n",
       " '': 8}"
      ]
     },
     "execution_count": 36,
     "metadata": {},
     "output_type": "execute_result"
    }
   ],
   "source": [
    "# map_labels"
   ]
  },
  {
   "cell_type": "code",
   "execution_count": null,
   "id": "0c6c07e6",
   "metadata": {},
   "outputs": [],
   "source": [
    "# map_labels_rev = {map_labels[i]:i for i in map_labels}"
   ]
  },
  {
   "cell_type": "code",
   "execution_count": null,
   "id": "b39e8941",
   "metadata": {},
   "outputs": [],
   "source": []
  },
  {
   "cell_type": "code",
   "execution_count": null,
   "id": "8a487381",
   "metadata": {},
   "outputs": [],
   "source": []
  },
  {
   "cell_type": "code",
   "execution_count": null,
   "id": "7fa1a24d",
   "metadata": {},
   "outputs": [],
   "source": []
  },
  {
   "cell_type": "code",
   "execution_count": null,
   "id": "350f0403",
   "metadata": {},
   "outputs": [],
   "source": []
  }
 ],
 "metadata": {
  "kernelspec": {
   "display_name": "Python 3",
   "language": "python",
   "name": "python3"
  },
  "language_info": {
   "codemirror_mode": {
    "name": "ipython",
    "version": 3
   },
   "file_extension": ".py",
   "mimetype": "text/x-python",
   "name": "python",
   "nbconvert_exporter": "python",
   "pygments_lexer": "ipython3",
   "version": "3.8.8"
  }
 },
 "nbformat": 4,
 "nbformat_minor": 5
}
