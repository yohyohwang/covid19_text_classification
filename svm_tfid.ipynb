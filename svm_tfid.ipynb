{
 "cells": [
  {
   "cell_type": "markdown",
   "id": "e2cae695",
   "metadata": {},
   "source": [
    "Following https://medium.com/technovators/machine-learning-based-multi-label-text-classification-9a0e17f88bb4"
   ]
  },
  {
   "cell_type": "code",
   "execution_count": 1,
   "id": "dab1f7b5",
   "metadata": {},
   "outputs": [],
   "source": [
    "import sys\n",
    "sys.path.append('/usr/local/lib/python3.9/site-packages')"
   ]
  },
  {
   "cell_type": "code",
   "execution_count": 2,
   "id": "12a09fd0",
   "metadata": {},
   "outputs": [],
   "source": [
    "from sklearn.svm import LinearSVC\n",
    "from sklearn.multiclass import OneVsRestClassifier\n",
    "from sklearn.calibration import CalibratedClassifierCV\n",
    "from sklearn.feature_extraction.text import TfidfVectorizer\n",
    "from sklearn.preprocessing import MultiLabelBinarizer\n",
    "from sklearn import metrics\n",
    "\n",
    "import pandas as pd\n",
    "import numpy as np\n",
    "import pickle\n",
    "import json\n",
    "\n",
    "import matplotlib.pyplot as plt\n",
    "import umap\n",
    "from mlxtend.plotting import plot_decision_regions\n",
    "\n",
    "import scipy\n"
   ]
  },
  {
   "cell_type": "code",
   "execution_count": 3,
   "id": "38659523",
   "metadata": {},
   "outputs": [],
   "source": [
    "train_dict = pickle.load(open('data/train.pkl', 'rb'))\n",
    "valid_dict = pickle.load(open('data/valid.pkl', 'rb'))\n",
    "test_dict = pickle.load(open('data/test.pkl', 'rb'))"
   ]
  },
  {
   "cell_type": "code",
   "execution_count": 4,
   "id": "3211e396",
   "metadata": {},
   "outputs": [],
   "source": [
    "# combine valid and test - approx 80/20 split\n",
    "test_dict = {**valid_dict, **test_dict}"
   ]
  },
  {
   "cell_type": "code",
   "execution_count": 24,
   "id": "8bbf9c2f",
   "metadata": {},
   "outputs": [
    {
     "data": {
      "text/plain": [
       "52416"
      ]
     },
     "execution_count": 24,
     "metadata": {},
     "output_type": "execute_result"
    }
   ],
   "source": [
    "len(train_dict)"
   ]
  },
  {
   "cell_type": "code",
   "execution_count": 25,
   "id": "c3d05c1d",
   "metadata": {},
   "outputs": [
    {
     "data": {
      "text/plain": [
       "4538"
      ]
     },
     "execution_count": 25,
     "metadata": {},
     "output_type": "execute_result"
    }
   ],
   "source": [
    "len(test_dict)"
   ]
  },
  {
   "cell_type": "code",
   "execution_count": 5,
   "id": "8a3cbc4e",
   "metadata": {},
   "outputs": [],
   "source": [
    "# Save certain keys only\n",
    "\n",
    "def load_dict(d:dict):\n",
    "    \n",
    "    d_new = {i:{'input': d[i]['input'],\n",
    "                 'label': d[i]['label'].split(';'),\n",
    "                 'label_vec': d[i]['label_vec'], \n",
    "                 'lemmas': d[i]['lemmas']}\n",
    "              for i in d\n",
    "              if len(d[i]['lemmas']) != 0}\n",
    "    \n",
    "    return d_new\n",
    "\n",
    "\n",
    "train_dict = load_dict(train_dict)\n",
    "# valid_dict = load_dict(valid_dict)\n",
    "test_dict = load_dict(test_dict)"
   ]
  },
  {
   "cell_type": "code",
   "execution_count": 6,
   "id": "f6ce8f57",
   "metadata": {},
   "outputs": [],
   "source": [
    "train_data = pd.DataFrame.from_dict(train_dict, orient='index')\n",
    "# valid_data = pd.DataFrame.from_dict(valid_dict, orient='index')\n",
    "test_data = pd.DataFrame.from_dict(test_dict, orient='index')"
   ]
  },
  {
   "cell_type": "code",
   "execution_count": 7,
   "id": "ce4c89e6",
   "metadata": {},
   "outputs": [],
   "source": [
    "vectorizer = TfidfVectorizer()\n",
    "vectorised_train_documents = vectorizer.fit_transform(train_data[\"input\"])\n",
    "vectorised_test_documents = vectorizer.transform(test_data[\"input\"])"
   ]
  },
  {
   "cell_type": "code",
   "execution_count": 8,
   "id": "5484fd55",
   "metadata": {},
   "outputs": [],
   "source": [
    "mlb = MultiLabelBinarizer()\n",
    "train_labels = mlb.fit_transform(train_data['label'])\n",
    "test_labels = mlb.transform(test_data['label'])\n"
   ]
  },
  {
   "cell_type": "code",
   "execution_count": 9,
   "id": "413f8d51",
   "metadata": {},
   "outputs": [],
   "source": [
    "svmClassifier = OneVsRestClassifier(LinearSVC(), n_jobs=-1)\n",
    "# svmClassifier = CalibratedClassifierCV(svmClassifier)\n",
    "svmClassifier.fit(vectorised_train_documents, train_labels)\n",
    "\n",
    "svmPreds = svmClassifier.predict(vectorised_test_documents)\n",
    "# svmProba = svmClassifier._predict_proba_lr(vectorised_test_documents)\n",
    "\n",
    "svmDF = svmClassifier.decision_function(vectorised_test_documents)"
   ]
  },
  {
   "cell_type": "code",
   "execution_count": null,
   "id": "45986374",
   "metadata": {},
   "outputs": [],
   "source": []
  },
  {
   "cell_type": "code",
   "execution_count": 10,
   "id": "991fd52b",
   "metadata": {},
   "outputs": [],
   "source": [
    "from sklearn.metrics import accuracy_score, precision_score, recall_score, f1_score, confusion_matrix, hamming_loss"
   ]
  },
  {
   "cell_type": "code",
   "execution_count": 11,
   "id": "5a20a4ea",
   "metadata": {},
   "outputs": [
    {
     "data": {
      "text/plain": [
       "0.881225209343323"
      ]
     },
     "execution_count": 11,
     "metadata": {},
     "output_type": "execute_result"
    }
   ],
   "source": [
    "accuracy_score(test_labels, svmPreds)"
   ]
  },
  {
   "cell_type": "code",
   "execution_count": 12,
   "id": "724720aa",
   "metadata": {},
   "outputs": [
    {
     "data": {
      "text/plain": [
       "0.9423452492145707"
      ]
     },
     "execution_count": 12,
     "metadata": {},
     "output_type": "execute_result"
    }
   ],
   "source": [
    "f1_score(test_labels, svmPreds, average='micro')"
   ]
  },
  {
   "cell_type": "code",
   "execution_count": 13,
   "id": "9b18bc95",
   "metadata": {},
   "outputs": [
    {
     "data": {
      "text/plain": [
       "0.9532726335681154"
      ]
     },
     "execution_count": 13,
     "metadata": {},
     "output_type": "execute_result"
    }
   ],
   "source": [
    "precision_score(test_labels, svmPreds, average='micro')"
   ]
  },
  {
   "cell_type": "code",
   "execution_count": 14,
   "id": "42352a1f",
   "metadata": {},
   "outputs": [
    {
     "data": {
      "text/plain": [
       "0.9316655473472129"
      ]
     },
     "execution_count": 14,
     "metadata": {},
     "output_type": "execute_result"
    }
   ],
   "source": [
    "recall_score(test_labels, svmPreds, average='micro')"
   ]
  },
  {
   "cell_type": "code",
   "execution_count": null,
   "id": "195136e6",
   "metadata": {},
   "outputs": [],
   "source": []
  },
  {
   "cell_type": "code",
   "execution_count": null,
   "id": "7de395b0",
   "metadata": {},
   "outputs": [],
   "source": []
  },
  {
   "cell_type": "code",
   "execution_count": 15,
   "id": "063f5743",
   "metadata": {},
   "outputs": [],
   "source": [
    "with open('map_labels.json', 'r') as f:\n",
    "    map_labels = json.load(f)\n",
    "\n",
    "# map_labels\n",
    "# map_labels_rev = {map_labels[i]:i for i in map_labels}"
   ]
  },
  {
   "cell_type": "code",
   "execution_count": 16,
   "id": "cc7f9317",
   "metadata": {},
   "outputs": [
    {
     "name": "stdout",
     "output_type": "stream",
     "text": [
      "                      precision    recall  f1-score   support\n",
      "\n",
      "         Case Report       0.95      0.89      0.92       773\n",
      "           Diagnosis       0.97      0.94      0.95       297\n",
      "Epidemic Forecasting       0.95      0.93      0.94       954\n",
      "        General Info       0.99      0.99      0.99       104\n",
      "           Mechanism       1.00      0.67      0.80        18\n",
      "          Prevention       0.97      0.96      0.97       685\n",
      "        Transmission       0.94      0.94      0.94      1625\n",
      "           Treatment       0.98      0.90      0.94       153\n",
      "                           0.95      0.94      0.95      1347\n",
      "\n",
      "           micro avg       0.95      0.93      0.94      5956\n",
      "           macro avg       0.97      0.90      0.93      5956\n",
      "        weighted avg       0.95      0.93      0.94      5956\n",
      "         samples avg       0.94      0.94      0.93      5956\n",
      "\n"
     ]
    },
    {
     "name": "stderr",
     "output_type": "stream",
     "text": [
      "/Users/yohyoh.wang/opt/anaconda3/lib/python3.8/site-packages/sklearn/metrics/_classification.py:1245: UndefinedMetricWarning: Precision and F-score are ill-defined and being set to 0.0 in samples with no predicted labels. Use `zero_division` parameter to control this behavior.\n",
      "  _warn_prf(average, modifier, msg_start, len(result))\n"
     ]
    }
   ],
   "source": [
    "print(metrics.classification_report(test_labels, svmPreds, target_names=map_labels.keys()))\n"
   ]
  },
  {
   "cell_type": "code",
   "execution_count": 17,
   "id": "287f0137",
   "metadata": {},
   "outputs": [],
   "source": [
    "# Which categories did the model perform best and worst on? \n",
    "confusion_matrix = metrics.multilabel_confusion_matrix(test_labels, svmPreds)"
   ]
  },
  {
   "cell_type": "code",
   "execution_count": 18,
   "id": "b8ca52b4",
   "metadata": {},
   "outputs": [
    {
     "data": {
      "text/plain": [
       "Text(0.5, 1.0, 'General Info')"
      ]
     },
     "execution_count": 18,
     "metadata": {},
     "output_type": "execute_result"
    },
    {
     "data": {
      "image/png": "[encoded data removed]",
      "text/plain": [
       "<Figure size 864x576 with 4 Axes>"
      ]
     },
     "metadata": {
      "needs_background": "light"
     },
     "output_type": "display_data"
    }
   ],
   "source": [
    "fig, (ax1, ax2) = plt.subplots(1, 2, figsize=(12, 8))\n",
    "\n",
    "disp1 = metrics.ConfusionMatrixDisplay(confusion_matrix[0]).plot(ax=ax1)\n",
    "disp1.ax_.set_title('Mechanism')\n",
    "\n",
    "disp2 = metrics.ConfusionMatrixDisplay(confusion_matrix[1]).plot(ax=ax2)\n",
    "disp2.ax_.set_title('General Info')"
   ]
  },
  {
   "cell_type": "code",
   "execution_count": null,
   "id": "ee7f1dd4",
   "metadata": {},
   "outputs": [],
   "source": []
  },
  {
   "cell_type": "code",
   "execution_count": null,
   "id": "5ef78caa",
   "metadata": {},
   "outputs": [],
   "source": []
  },
  {
   "cell_type": "code",
   "execution_count": 19,
   "id": "cbb42cff",
   "metadata": {},
   "outputs": [
    {
     "data": {
      "text/plain": [
       "array([0.99266307, 0.9989433 , 0.99584573, 0.99998699, 0.99985251,\n",
       "       0.99871027, 0.9914237 , 0.99969444, 0.99510548])"
      ]
     },
     "execution_count": 19,
     "metadata": {},
     "output_type": "execute_result"
    }
   ],
   "source": [
    "metrics.roc_auc_score(test_labels, svmDF, average=None)"
   ]
  },
  {
   "cell_type": "code",
   "execution_count": 20,
   "id": "483ba6fd",
   "metadata": {},
   "outputs": [
    {
     "data": {
      "text/plain": [
       "1.9587924195680917"
      ]
     },
     "execution_count": 20,
     "metadata": {},
     "output_type": "execute_result"
    }
   ],
   "source": [
    "# The coverage_error function computes the average number of labels that have to be included in the final prediction such that all true labels are predicted. This is useful if you want to know how many top-scored-labels you have to predict in average without missing any true one. \n",
    "# The best value of this metrics is thus the average number of true labels.\n",
    "\n",
    "metrics.coverage_error(test_labels, svmPreds)"
   ]
  },
  {
   "cell_type": "code",
   "execution_count": null,
   "id": "51b66e07",
   "metadata": {},
   "outputs": [],
   "source": []
  },
  {
   "cell_type": "code",
   "execution_count": null,
   "id": "b0eaf5ec",
   "metadata": {},
   "outputs": [],
   "source": []
  },
  {
   "cell_type": "code",
   "execution_count": 21,
   "id": "23c90639",
   "metadata": {},
   "outputs": [
    {
     "data": {
      "text/plain": [
       "{'Case Report': 0,\n",
       " 'Diagnosis': 1,\n",
       " 'Epidemic Forecasting': 2,\n",
       " 'General Info': 3,\n",
       " 'Mechanism': 4,\n",
       " 'Prevention': 5,\n",
       " 'Transmission': 6,\n",
       " 'Treatment': 7,\n",
       " '': 8}"
      ]
     },
     "execution_count": 21,
     "metadata": {},
     "output_type": "execute_result"
    }
   ],
   "source": [
    "map_labels"
   ]
  },
  {
   "cell_type": "code",
   "execution_count": null,
   "id": "2fc5b60b",
   "metadata": {},
   "outputs": [],
   "source": []
  }
 ],
 "metadata": {
  "kernelspec": {
   "display_name": "Python 3",
   "language": "python",
   "name": "python3"
  },
  "language_info": {
   "codemirror_mode": {
    "name": "ipython",
    "version": 3
   },
   "file_extension": ".py",
   "mimetype": "text/x-python",
   "name": "python",
   "nbconvert_exporter": "python",
   "pygments_lexer": "ipython3",
   "version": "3.8.8"
  }
 },
 "nbformat": 4,
 "nbformat_minor": 5
}
