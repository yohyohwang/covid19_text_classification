{
 "cells": [
  {
   "cell_type": "markdown",
   "id": "724ed7d9",
   "metadata": {},
   "source": [
    "### Tokenize and Lemmatize inputs\n",
    "\n",
    "Source: lecture notebooks + https://gist.github.com/4OH4/f727af7dfc0e6bb0f26d2ea41d89ee55"
   ]
  },
  {
   "cell_type": "code",
   "execution_count": 122,
   "id": "2b968201",
   "metadata": {},
   "outputs": [],
   "source": [
    "import pandas as pd\n",
    "import json\n",
    "from sklearn.feature_extraction.text import CountVectorizer\n",
    "\n",
    "import nltk\n",
    "from nltk import word_tokenize          \n",
    "from nltk.stem import WordNetLemmatizer\n",
    "from nltk.corpus import stopwords\n",
    "\n",
    "import pickle\n",
    "\n",
    "import spacy\n",
    "import numpy as np"
   ]
  },
  {
   "cell_type": "code",
   "execution_count": null,
   "id": "736b129e",
   "metadata": {},
   "outputs": [],
   "source": [
    "train = pd.read_csv('data/train.csv')\n",
    "valid = pd.read_csv('data/valid.csv')\n",
    "test = pd.read_csv('data/valid.csv')"
   ]
  },
  {
   "cell_type": "code",
   "execution_count": 155,
   "id": "4ecaf496",
   "metadata": {},
   "outputs": [],
   "source": [
    "def lemmatize_embeddings(dat=object):\n",
    "    \n",
    "    dat = dat.fillna('')\n",
    "    dat['input'] = dat['title']+dat['abstract']\n",
    "    dat['key'] = 'PMID:'+dat['pmid'].astype(str)\n",
    "    \n",
    "    dat_dict = {dat['key'][i]: {'input': dat['input'][i], \n",
    "                                'label': dat['label'][i]}\n",
    "                for i in range(len(dat))}\n",
    "    \n",
    "    load_model = spacy.load('en_core_web_md', disable = ['parser','ner'])\n",
    "    \n",
    "    # Lemmatize and add to dictionary\n",
    "    for i in dat_dict:\n",
    "        doc = load_model(dat_dict[i]['input'])\n",
    "        dat_dict[i]['lemmas'] = [token.lemma_ for token in doc if len(token.lemma_) > 1]\n",
    "    \n",
    "    # Generate word embeddings for each lemma\n",
    "    nlp = spacy.load('en_core_web_md')\n",
    "    \n",
    "    for i in dat_dict:\n",
    "        embeddings = {j: nlp.vocab[j].vector for j in dat_dict[i]['lemmas']}\n",
    "        sentenceMatrix = np.array([embeddings[i] for i in embeddings])\n",
    "        dat_dict[i]['embeddings'] = sentenceMatrix\n",
    "    \n",
    "    return dat_dict"
   ]
  },
  {
   "cell_type": "code",
   "execution_count": 157,
   "id": "585e6e3d",
   "metadata": {},
   "outputs": [
    {
     "name": "stdout",
     "output_type": "stream",
     "text": [
      "CPU times: user 3min 33s, sys: 28.5 s, total: 4min 1s\n",
      "Wall time: 4min 17s\n"
     ]
    }
   ],
   "source": [
    "%%time\n",
    "\n",
    "train_dict = lemmatize_embeddings(train)\n",
    "valid_dict = lemmatize_embeddings(valid)\n",
    "test_dict = lemmatize_embeddings(test)"
   ]
  },
  {
   "cell_type": "code",
   "execution_count": 159,
   "id": "55468cee",
   "metadata": {},
   "outputs": [],
   "source": [
    "# pickle.dump(train_dict, open('data/train.pkl', 'wb'))\n",
    "# pickle.dump(valid_dict, open('data/valid.pkl', 'wb'))\n",
    "# pickle.dump(test_dict, open('data/test.pkl', 'wb'))"
   ]
  },
  {
   "cell_type": "code",
   "execution_count": null,
   "id": "303ca290",
   "metadata": {},
   "outputs": [],
   "source": []
  },
  {
   "cell_type": "code",
   "execution_count": null,
   "id": "b3153076",
   "metadata": {},
   "outputs": [],
   "source": []
  },
  {
   "cell_type": "code",
   "execution_count": null,
   "id": "5d49136f",
   "metadata": {},
   "outputs": [],
   "source": []
  }
 ],
 "metadata": {
  "kernelspec": {
   "display_name": "Python 3",
   "language": "python",
   "name": "python3"
  },
  "language_info": {
   "codemirror_mode": {
    "name": "ipython",
    "version": 3
   },
   "file_extension": ".py",
   "mimetype": "text/x-python",
   "name": "python",
   "nbconvert_exporter": "python",
   "pygments_lexer": "ipython3",
   "version": "3.8.8"
  }
 },
 "nbformat": 4,
 "nbformat_minor": 5
}
