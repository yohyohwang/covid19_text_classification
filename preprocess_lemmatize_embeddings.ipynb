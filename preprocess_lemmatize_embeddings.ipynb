{
 "cells": [
  {
   "cell_type": "markdown",
   "id": "724ed7d9",
   "metadata": {},
   "source": [
    "### Tokenize and Lemmatize inputs\n",
    "\n",
    "Source: lecture notebooks + https://gist.github.com/4OH4/f727af7dfc0e6bb0f26d2ea41d89ee55"
   ]
  },
  {
   "cell_type": "code",
   "execution_count": 2,
   "id": "2b968201",
   "metadata": {},
   "outputs": [],
   "source": [
    "import pandas as pd\n",
    "import json\n",
    "from sklearn.feature_extraction.text import CountVectorizer\n",
    "\n",
    "import nltk\n",
    "from nltk import word_tokenize          \n",
    "from nltk.stem import WordNetLemmatizer\n",
    "from nltk.corpus import stopwords\n",
    "\n",
    "import pickle\n",
    "\n",
    "import spacy\n",
    "import numpy as np"
   ]
  },
  {
   "cell_type": "code",
   "execution_count": null,
   "id": "0ae475de",
   "metadata": {},
   "outputs": [],
   "source": []
  },
  {
   "cell_type": "code",
   "execution_count": 3,
   "id": "736b129e",
   "metadata": {},
   "outputs": [],
   "source": [
    "train = pd.read_csv('data/train.csv')\n",
    "valid = pd.read_csv('data/valid.csv')\n",
    "test = pd.read_csv('data/valid.csv')"
   ]
  },
  {
   "cell_type": "code",
   "execution_count": 94,
   "id": "ec9cc8b1",
   "metadata": {},
   "outputs": [],
   "source": [
    "train = train.dropna(subset=['title', 'abstract']).reset_index()\n",
    "valid = valid.dropna(subset=['title', 'abstract']).reset_index()\n",
    "test = test.dropna(subset=['title', 'abstract']).reset_index()"
   ]
  },
  {
   "cell_type": "code",
   "execution_count": null,
   "id": "00b161a3",
   "metadata": {},
   "outputs": [],
   "source": [
    "with open('map_labels.json', 'r') as f:\n",
    "    map_labels = json.load(f)"
   ]
  },
  {
   "cell_type": "code",
   "execution_count": 101,
   "id": "4ecaf496",
   "metadata": {},
   "outputs": [],
   "source": [
    "def preprocess(dat=object):\n",
    "    \n",
    "    dat = dat.fillna('')\n",
    "    dat['input'] = dat['title']+' '+dat['abstract']\n",
    "    dat['key'] = 'PMID:'+dat['pmid'].astype(str)\n",
    "    \n",
    "    # generate vector of Boolean values, for labels\n",
    "    label_vec_idx = list()\n",
    "\n",
    "    for i in range(len(dat)):\n",
    "        labels = dat.loc[i, 'label'].split(';')\n",
    "        label_vec_idx.append(list(map(map_labels.get, labels)))\n",
    "        \n",
    "    label_vec = [[0]*9 for i in range(len(label_vec_idx))]\n",
    "\n",
    "    for i in range(len(label_vec_idx)):\n",
    "        for j in label_vec_idx[i]:\n",
    "            label_vec[i][j] = 1\n",
    "            \n",
    "    dat['label_vec'] = label_vec\n",
    "    \n",
    "    # initialize dictionary\n",
    "    dat_dict = {dat['key'][i]: {'input': dat['input'][i], \n",
    "                                'label': dat['label'][i],\n",
    "                                'label_vec': dat['label_vec'][i]}\n",
    "                for i in range(len(dat))}\n",
    "    \n",
    "#     load_model = spacy.load('en_core_web_md', disable = ['parser','ner'])\n",
    "    load_model = spacy.load('en_core_web_md')\n",
    "\n",
    "    stop_words = set(stopwords.words('english'))\n",
    "    \n",
    "    # Lemmatize, NER, add to dictionary\n",
    "    for i in dat_dict:\n",
    "        doc = load_model(dat_dict[i]['input'])\n",
    "        dat_dict[i]['lemmas'] = [token.lemma_ for token in doc \n",
    "                                 if token.lemma_ not in stop_words\n",
    "                                 and len(token.lemma_) > 1 ]\n",
    "#         dat_dict[i]['ent_iob'] = [token.ent_iob_ for token in doc]\n",
    "#         dat_dict[i]['ent_type'] = [token.ent_type_ for token in doc]\n",
    "\n",
    "    \n",
    "    # Generate word embeddings for each lemma\n",
    "    nlp = spacy.load('en_core_web_md')\n",
    "    \n",
    "    for i in dat_dict:\n",
    "        embeddings = {j: nlp.vocab[j].vector for j in dat_dict[i]['lemmas']}\n",
    "        sentenceMatrix = np.array([embeddings[i] for i in embeddings])\n",
    "        dat_dict[i]['embeddings'] = sentenceMatrix\n",
    "    \n",
    "    return dat_dict\n",
    "    \n"
   ]
  },
  {
   "cell_type": "code",
   "execution_count": 102,
   "id": "585e6e3d",
   "metadata": {},
   "outputs": [
    {
     "name": "stdout",
     "output_type": "stream",
     "text": [
      "CPU times: user 31min 49s, sys: 3min 32s, total: 35min 21s\n",
      "Wall time: 36min 50s\n"
     ]
    }
   ],
   "source": [
    "%%time\n",
    "\n",
    "train_dict = preprocess(train)\n",
    "valid_dict = preprocess(valid)\n",
    "test_dict = preprocess(test)"
   ]
  },
  {
   "cell_type": "code",
   "execution_count": null,
   "id": "44930ffa",
   "metadata": {},
   "outputs": [],
   "source": []
  },
  {
   "cell_type": "code",
   "execution_count": 105,
   "id": "55468cee",
   "metadata": {},
   "outputs": [],
   "source": [
    "pickle.dump(train_dict, open('data/train.pkl', 'wb'))\n",
    "pickle.dump(valid_dict, open('data/valid.pkl', 'wb'))\n",
    "pickle.dump(test_dict, open('data/test.pkl', 'wb'))"
   ]
  },
  {
   "cell_type": "code",
   "execution_count": 30,
   "id": "b3153076",
   "metadata": {},
   "outputs": [],
   "source": [
    "# pickle.dump(valid_dict, open('data/valid_ner.pkl', 'wb'))"
   ]
  },
  {
   "cell_type": "code",
   "execution_count": null,
   "id": "478ba6bc",
   "metadata": {},
   "outputs": [],
   "source": []
  }
 ],
 "metadata": {
  "kernelspec": {
   "display_name": "Python 3",
   "language": "python",
   "name": "python3"
  },
  "language_info": {
   "codemirror_mode": {
    "name": "ipython",
    "version": 3
   },
   "file_extension": ".py",
   "mimetype": "text/x-python",
   "name": "python",
   "nbconvert_exporter": "python",
   "pygments_lexer": "ipython3",
   "version": "3.8.8"
  }
 },
 "nbformat": 4,
 "nbformat_minor": 5
}
